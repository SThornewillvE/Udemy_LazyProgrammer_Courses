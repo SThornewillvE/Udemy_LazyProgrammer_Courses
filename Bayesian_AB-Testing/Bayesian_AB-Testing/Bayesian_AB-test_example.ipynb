{
 "cells": [
  {
   "cell_type": "markdown",
   "metadata": {},
   "source": [
    "# Bayesian A/B Test Example\n",
    "___\n",
    "Author: Simon Thornewill von Essen\n",
    "\n",
    "Date: 04-02-2019\n",
    "___\n",
    "\n",
    "In this notebook I would like to make a summary of what I have learned about Bayesian A/B testing based on what I have learned from the Lazy Programmer course on Udemy and other talks I have found throughout the internet which can be found in the `Non-Course_Notes_2018-10` of the [repository](https://github.com/SThornewillvE/Udemy_LazyProgrammer_Courses/tree/master/Bayesian_AB-Testing) where this notebook is stored.\n",
    "\n",
    "This should be a quick guide on the logic behind this kind of test and the kind of code that needs to be written in order to implement it as I understand it."
   ]
  },
  {
   "cell_type": "markdown",
   "metadata": {},
   "source": [
    "## Why Bother?\n",
    "\n",
    "Frequentist AB Testing comes with a number of drawbacks:\n",
    "\n",
    "1. We can't peek at values while we are doing the test and we cannot stop when we like. i.e. Stopping a test as it becomes significant is prone to false positives.\n",
    "2. We need to do a lot of preparations calculating sample sizes to make sure our test has enough \"power\" to detect small changes.\n",
    "3. It's difficult to communicate the logic of the test to those who aren't familliar with statistics. (Even statisticians can get this badly wrong.)\n",
    "4. A lot of the assumptions are easy to forget or are unintuitive as above.\n",
    "\n",
    "Overall, people do frequentist A/B testing because it gets taught first and is easier to calculate. Bayesian A/B testing might be more difficult to learn about and is more advanced in terms of calculations but it comes with the following perks:\n",
    "\n",
    "1. No prep. necessary.\n",
    "2. No Thresholds, and those that are placed are easy to understand.\n",
    "3. Naturally converges over time.\n",
    "4. Peeking and stopping are allowed at any time.\n",
    "5. Results are easier to communicate with a non-technical audience.\n",
    "6. Testing multiple variants at once is way easier due to not needing to make Bonferroni corrections.\n",
    "7. Possible to take a multi-arm bandit appraoch and select strongest variants in real time.\n",
    "\n",
    "So, even if it takes more rigorous understanding to do Bayesian A/B testing, depending on your management and what you aim to do it might be worth learning."
   ]
  },
  {
   "cell_type": "markdown",
   "metadata": {},
   "source": [
    "## Bayesian A/B Testing\n",
    "\n",
    "As I have written in my notes, Bayes Theorem is as follows:\n",
    "\n",
    "$$P(\\theta | X) = \\frac{P(X | \\theta) \\times P(\\theta)}{P(X)}$$\n",
    "\n",
    "Where $\\theta$ is our hypothesis and $X$ is our dataset.\n",
    "\n",
    "When using this theorem, it immediately becomes perflexing on how to even use it, given that all of these values are distributions and $P(X)$ is difficult to calculate. \n",
    "\n",
    "If specific distributions are used for the prior ($P(X)$) and the liklihood($P(X | \\theta)$), then we don't need to worry about the normalization constant ($P(X)$).\n",
    "\n",
    "Normally, when doing A/B testing we are looking for conversion (1s and 0s), which is binomially distributed as seen below:\n",
    "\n",
    "$$P(X | \\theta) = \\prod_{i=1}^{N} \\theta^{x_i}(1 - \\theta)^{1-x_i}$$\n",
    "\n",
    "The Liklihood, is going to be a value between 0 and 1 and need to be flexible in order to mimic many distributions based on its parameters. The Beta distribution is perfect for that.\n",
    "\n",
    "$$P(\\theta) \\sim Beta(A, B) = \\frac{\\theta^{a-1}(1 - \\theta)^{b-1}}{B(a, b)}$$\n",
    "\n",
    "Where the normalisation const. $B(a, b)$ is some other stuff I don't want to get into here becuase it's not important for the implementation itself.\n",
    "\n",
    "Thus, if we want to calculate $P(\\theta | X)$ all, we need to do is multiply these two things together:\n",
    "\n",
    "$$P(\\theta | X) \\propto \\big[ \\prod_{i=1}^{N} \\theta^{x_i}(1 - \\theta)^{1-x_i} \\big] \\theta^{a-1}(1 - \\theta)^{b-1}$$\n",
    "$$P(\\theta | X) \\propto \\theta^{a-1+\\sum_{i=1}^{N}x_i}(1 - \\theta)^{b-1+\\sum_{i=1}^{N}1-x_i}$$\n",
    "\n",
    "Note that if we modify the above then we get the Beta distribution again:\n",
    "\n",
    "$$P(\\theta | X) = Beta(a', b')$$\n",
    "\n",
    "Where $a' = a-1+\\sum_{i=1}^{N}x_i$ or \"a + clicks\" and $b' = b-1+\\sum_{i=1}^{N}1-x_i$ or \"b + no-clicks\".\n",
    "\n",
    "Note that if we don't know a or b then we set both to 1 as \"uninformative priors\"."
   ]
  },
  {
   "cell_type": "markdown",
   "metadata": {},
   "source": [
    "## Special Note\n",
    "\n",
    "I added some math above to help explain how this sort of thing is derived. The exact proof isn't important and you don't need to remember the eqautions above. What's important is why we are using a Beta distribution in this test so that you can understand the implementation. (Indeed, I might have gotten some details wrong above but that shouldn't stop you from going onward.)"
   ]
  },
  {
   "cell_type": "markdown",
   "metadata": {},
   "source": [
    "## Implementation\n",
    "\n",
    "After that long introduction, let's get to implementing these ideas.\n",
    "\n",
    "First, as always, we need to import our data and packages we'll be using."
   ]
  },
  {
   "cell_type": "code",
   "execution_count": 1,
   "metadata": {
    "scrolled": true
   },
   "outputs": [
    {
     "data": {
      "text/html": [
       "<div>\n",
       "<style scoped>\n",
       "    .dataframe tbody tr th:only-of-type {\n",
       "        vertical-align: middle;\n",
       "    }\n",
       "\n",
       "    .dataframe tbody tr th {\n",
       "        vertical-align: top;\n",
       "    }\n",
       "\n",
       "    .dataframe thead th {\n",
       "        text-align: right;\n",
       "    }\n",
       "</style>\n",
       "<table border=\"1\" class=\"dataframe\">\n",
       "  <thead>\n",
       "    <tr style=\"text-align: right;\">\n",
       "      <th></th>\n",
       "      <th>case</th>\n",
       "      <th>conversion</th>\n",
       "    </tr>\n",
       "  </thead>\n",
       "  <tbody>\n",
       "    <tr>\n",
       "      <th>0</th>\n",
       "      <td>A</td>\n",
       "      <td>1</td>\n",
       "    </tr>\n",
       "    <tr>\n",
       "      <th>1</th>\n",
       "      <td>B</td>\n",
       "      <td>1</td>\n",
       "    </tr>\n",
       "    <tr>\n",
       "      <th>2</th>\n",
       "      <td>A</td>\n",
       "      <td>1</td>\n",
       "    </tr>\n",
       "    <tr>\n",
       "      <th>3</th>\n",
       "      <td>A</td>\n",
       "      <td>0</td>\n",
       "    </tr>\n",
       "    <tr>\n",
       "      <th>4</th>\n",
       "      <td>B</td>\n",
       "      <td>0</td>\n",
       "    </tr>\n",
       "  </tbody>\n",
       "</table>\n",
       "</div>"
      ],
      "text/plain": [
       "  case  conversion\n",
       "0    A           1\n",
       "1    B           1\n",
       "2    A           1\n",
       "3    A           0\n",
       "4    B           0"
      ]
     },
     "execution_count": 1,
     "metadata": {},
     "output_type": "execute_result"
    }
   ],
   "source": [
    "# Import Packages\n",
    "import pandas as pd\n",
    "import matplotlib.pyplot as plt\n",
    "import numpy as np\n",
    "from scipy.stats import beta\n",
    "from random import choice\n",
    "\n",
    "# Set MPL style\n",
    "%matplotlib inline\n",
    "plt.style.use(\"seaborn\")\n",
    "\n",
    "# Import Data\n",
    "df = pd.read_csv(\"dat/AB-test_data.csv\", sep = \"\\t\")  # This data is real but has been anonymised for security reasons\n",
    "df['case'] = df[\"case\"].replace({3148: 'A', 3149: 'B'})\n",
    "\n",
    "df.head()"
   ]
  },
  {
   "cell_type": "markdown",
   "metadata": {},
   "source": [
    "First thing we should do is set our priors. Since this is the frist time running this experiment, we need to set \"uninformative priors\" as described above."
   ]
  },
  {
   "cell_type": "markdown",
   "metadata": {},
   "source": [
    "### Monte Carlo Simulation\n",
    "\n",
    "As a first example, I want to show how we can simulate the data to get the distributions we are looking for."
   ]
  },
  {
   "cell_type": "code",
   "execution_count": 2,
   "metadata": {},
   "outputs": [],
   "source": [
    "# Set uninformative priors\n",
    "prior_a, prior_b = 1, 1\n",
    "\n",
    "# Set the number of samples in our Monte Carlo simulation\n",
    "N = 100000\n",
    "tot_a = df.groupby(\"case\").count().values[0]\n",
    "tot_b = df.groupby(\"case\").count().values[1]\n",
    "conv_a = df.groupby(\"case\")[\"conversion\"].sum()[\"A\"]\n",
    "conv_b = df.groupby(\"case\")[\"conversion\"].sum()[\"B\"]\n",
    "\n",
    "# Create a random sample\n",
    "A_samples = np.random.beta(conv_a+prior_a, \n",
    "                           tot_a-conv_a+prior_b, \n",
    "                           N)\n",
    "\n",
    "B_samples = np.random.beta(conv_a+prior_a, \n",
    "                           tot_b-conv_b+prior_b, \n",
    "                           N)"
   ]
  },
  {
   "cell_type": "code",
   "execution_count": 3,
   "metadata": {},
   "outputs": [
    {
     "data": {
      "image/png": "[encoded data removed]",
      "text/plain": [
       "<Figure size 720x432 with 1 Axes>"
      ]
     },
     "metadata": {},
     "output_type": "display_data"
    }
   ],
   "source": [
    "# Plot Results\n",
    "n_bins = 100\n",
    "\n",
    "fig, ax = plt.subplots(figsize=(10, 6), facecolor='white', edgecolor='k')\n",
    "plt.hist(A_samples, bins=n_bins, alpha=0.8, label=\"Treatment A\")\n",
    "plt.hist(B_samples, bins=n_bins, alpha=0.8, label=\"Treatment B\")\n",
    "plt.title(\"Bayesian A/B Test for the conversion rates of treatments A and B using monte carlo methods\")\n",
    "plt.legend()\n",
    "plt.xlim(0, 1)\n",
    "plt.show();"
   ]
  },
  {
   "cell_type": "markdown",
   "metadata": {},
   "source": [
    "### Multi-Arm Bandit\n",
    "\n",
    "You can also approach this my learning obersation by observation as follows:"
   ]
  },
  {
   "cell_type": "code",
   "execution_count": 4,
   "metadata": {},
   "outputs": [
    {
     "data": {
      "text/plain": [
       "0.27215146751994584"
      ]
     },
     "execution_count": 4,
     "metadata": {},
     "output_type": "execute_result"
    }
   ],
   "source": [
    "np.random.beta(1, 1)"
   ]
  },
  {
   "cell_type": "code",
   "execution_count": 5,
   "metadata": {},
   "outputs": [],
   "source": [
    "# Create bandit class\n",
    "class Bandit:\n",
    "    def __init__(self, name):\n",
    "        self.name = name\n",
    "        self.convs = 0\n",
    "        self.views = 0\n",
    "        \n",
    "    def sample(self):\n",
    "        \"\"\"\n",
    "        Creates a sample based on the distribution of this bandit.\n",
    "        \n",
    "        :return: random variable from distribution\n",
    "        \"\"\"\n",
    "        a = 1 + self.convs\n",
    "        b = 1 + (self.views - self.convs)  # Note that this is 1 + No-Clicks\n",
    "        x = np.random.beta(a, b)\n",
    "    \n",
    "        return x\n",
    "    \n",
    "    def add_conv(self):\n",
    "        \"\"\"\n",
    "        Increments conversions for this bandit\n",
    "        \"\"\"\n",
    "        self.convs += 1\n",
    "        \n",
    "    def add_view(self):\n",
    "        \"\"\"\n",
    "        Increments views for this bandit\n",
    "        \"\"\"\n",
    "        self.views += 1"
   ]
  },
  {
   "cell_type": "code",
   "execution_count": 6,
   "metadata": {},
   "outputs": [],
   "source": [
    "# Create bandit class for each treatment\n",
    "banditA = Bandit(name=\"A\")\n",
    "banditB = Bandit(name=\"B\")\n",
    "\n",
    "for i in range(len(df)):\n",
    "    # Get Observartion\n",
    "    obs = df.iloc[i]\n",
    "    \n",
    "    # Update relevant bandit's views and conversions\n",
    "    if obs[\"case\"] == 'A':\n",
    "        banditA.add_view()\n",
    "        if obs[\"conversion\"] == 1:\n",
    "            banditA.add_conv()\n",
    "    else: \n",
    "        banditB.add_view()\n",
    "        if obs[\"conversion\"] == 1:\n",
    "            banditB.add_conv()"
   ]
  },
  {
   "cell_type": "code",
   "execution_count": 7,
   "metadata": {},
   "outputs": [
    {
     "data": {
      "image/png": "[encoded data removed]",
      "text/plain": [
       "<Figure size 720x432 with 1 Axes>"
      ]
     },
     "metadata": {},
     "output_type": "display_data"
    }
   ],
   "source": [
    "# get pdf for treatment A and treatment B\n",
    "x = np.linspace(0, 1, 200)\n",
    "treatmentA_pdf = beta.pdf(x, a=(1+banditA.views), b=(1+(banditA.views-banditA.convs)))\n",
    "treatmentB_pdf = beta.pdf(x, a=(1+banditB.views), b=(1+(banditB.views-banditB.convs)))\n",
    "\n",
    "\n",
    "# Plot Distributions based on conversions\n",
    "fig, ax = plt.subplots(figsize=(10, 6), facecolor='white', edgecolor='k')\n",
    "plt.plot(x, treatmentA_pdf, label=\"Treatment A\")\n",
    "plt.plot(x, treatmentB_pdf, label=\"Treatment B\")\n",
    "plt.title(\"Bayesian A/B Test for the conversion rates of treatments A and B using pesudo-bandits\")\n",
    "plt.legend()\n",
    "plt.show();"
   ]
  },
  {
   "cell_type": "markdown",
   "metadata": {},
   "source": [
    "We can see above that treatment B is far superior to treatment A in terms of the conversion of this KPI. This is what was concluded when this data was run through a frequentist A-B test.\n",
    "\n",
    "Scipy also allows us to calculate some interesting things about the above distribution..."
   ]
  },
  {
   "cell_type": "code",
   "execution_count": 8,
   "metadata": {},
   "outputs": [
    {
     "data": {
      "text/plain": [
       "(0.8080477474008472, 0.005464146597655188)"
      ]
     },
     "execution_count": 8,
     "metadata": {},
     "output_type": "execute_result"
    }
   ],
   "source": [
    "# Like the mean\n",
    "treatmentA_mean = beta.mean(a=(1+banditA.views), b=(1+(banditA.views-banditA.convs)))\n",
    "\n",
    "# Or the Std.\n",
    "treatmentA_std = beta.std(a=(1+banditA.views), b=(1+(banditA.views-banditA.convs)))\n",
    "\n",
    "treatmentA_mean, treatmentA_std"
   ]
  },
  {
   "cell_type": "markdown",
   "metadata": {},
   "source": [
    "Note that these bandits can be configured such that it converges on the better treatment, in the case of if you're trying to see which advertisement is best or anything of the sort."
   ]
  },
  {
   "cell_type": "code",
   "execution_count": 9,
   "metadata": {},
   "outputs": [],
   "source": [
    "# Create bandits again\n",
    "banditA = Bandit(name=\"A\")\n",
    "banditB = Bandit(name=\"B\")\n",
    "\n",
    "A_data = df[df[\"case\"]==\"A\"]\n",
    "B_data = df[df[\"case\"]==\"B\"]\n",
    "\n",
    "best_bandit = None\n",
    "best_prob = -1\n",
    "N = 1000  # Number of experiments\n",
    "\n",
    "for i in range(N):\n",
    "    if np.random.random() > best_prob:  # Select random number for explore exploit\n",
    "        choose = choice([banditA, banditB])  # Explore, choose random bandit\n",
    "        choose.add_view()\n",
    "        \n",
    "        # Next, increment conversion by selecting at random from its associated data\n",
    "        if choose.name == \"A\":\n",
    "            if A_data.conversion.sample().values[0] > 0:\n",
    "                choose.add_conv() \n",
    "        else:\n",
    "            if B_data.conversion.sample().values[0] > 0:\n",
    "                choose.add_conv() \n",
    "        \n",
    "        # Get random number from distribution of this bandit\n",
    "        x = choose.sample()  \n",
    "        if x > best_prob:\n",
    "            best_prob = x  # Remember if it is the best \n",
    "            best_bandit = choose  # Remember bandit if it is the best\n",
    "    \n",
    "    else:  # Explore condition was not met, exploit instead\n",
    "        best_bandit.add_view()\n",
    "        \n",
    "         # Next, increment conversion by selecting at random from its associated data\n",
    "        if best_bandit.name == \"A\":\n",
    "            if A_data.conversion.sample().values[0] > 0:\n",
    "                best_bandit.add_conv() \n",
    "        else:\n",
    "            if B_data.conversion.sample().values[0] > 0:\n",
    "                best_bandit.add_conv() \n",
    "        "
   ]
  },
  {
   "cell_type": "code",
   "execution_count": 10,
   "metadata": {},
   "outputs": [
    {
     "data": {
      "image/png": "[encoded data removed]",
      "text/plain": [
       "<Figure size 720x432 with 1 Axes>"
      ]
     },
     "metadata": {},
     "output_type": "display_data"
    }
   ],
   "source": [
    "# Get distributions\n",
    "x = np.linspace(0, 1, 200)\n",
    "treatmentA_pdf = beta.pdf(x, a=(1+banditA.views), b=(1+(banditA.views-banditA.convs)))\n",
    "treatmentB_pdf = beta.pdf(x, a=(1+banditB.views), b=(1+(banditB.views-banditB.convs)))\n",
    "\n",
    "\n",
    "# Plot Distributions based on conversions\n",
    "fig, ax = plt.subplots(figsize=(10, 6), facecolor='white', edgecolor='k')\n",
    "plt.plot(x, treatmentA_pdf, label=\"Treatment A\")\n",
    "plt.plot(x, treatmentB_pdf, label=\"Treatment B\")\n",
    "plt.title(\"Bayesian A/B Test for the conversion rates of treatments A and B using multi-arm bandits approach\")\n",
    "plt.legend()\n",
    "plt.show();"
   ]
  },
  {
   "cell_type": "markdown",
   "metadata": {},
   "source": [
    "## Conclusion\n",
    "\n",
    "So there we have it, an implementation of A/B testing using some real-world anonymised data"
   ]
  }
 ],
 "metadata": {
  "kernelspec": {
   "display_name": "Python 3",
   "language": "python",
   "name": "python3"
  },
  "language_info": {
   "codemirror_mode": {
    "name": "ipython",
    "version": 3
   },
   "file_extension": ".py",
   "mimetype": "text/x-python",
   "name": "python",
   "nbconvert_exporter": "python",
   "pygments_lexer": "ipython3",
   "version": "3.6.6"
  }
 },
 "nbformat": 4,
 "nbformat_minor": 2
}
